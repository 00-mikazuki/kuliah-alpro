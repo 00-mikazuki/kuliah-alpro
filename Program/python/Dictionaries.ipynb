{
 "cells": [
  {
   "cell_type": "markdown",
   "metadata": {},
   "source": [
    "#### Dictionaries"
   ]
  },
  {
   "cell_type": "code",
   "execution_count": 1,
   "metadata": {},
   "outputs": [
    {
     "name": "stdout",
     "output_type": "stream",
     "text": [
      "{'apple': 'apel', 'algoritm': 'algoritma'}\n",
      "apel\n",
      "{'apple': 'sama', 'algoritm': 'algoritma', 'classroom': 'ruang kelas'}\n",
      "{'algoritm': 'algoritma', 'classroom': 'ruang kelas'}\n"
     ]
    },
    {
     "ename": "KeyError",
     "evalue": "0",
     "output_type": "error",
     "traceback": [
      "\u001b[1;31m---------------------------------------------------------------------------\u001b[0m",
      "\u001b[1;31mKeyError\u001b[0m                                  Traceback (most recent call last)",
      "Cell \u001b[1;32mIn [1], line 9\u001b[0m\n\u001b[0;32m      7\u001b[0m \u001b[39mdel\u001b[39;00m kamus[\u001b[39m'\u001b[39m\u001b[39mapple\u001b[39m\u001b[39m'\u001b[39m]\n\u001b[0;32m      8\u001b[0m \u001b[39mprint\u001b[39m(kamus)\n\u001b[1;32m----> 9\u001b[0m \u001b[39mprint\u001b[39m(kamus[\u001b[39m0\u001b[39;49m])\n",
      "\u001b[1;31mKeyError\u001b[0m: 0"
     ]
    }
   ],
   "source": [
    "kamus={'apple':'apel','algoritm':'algoritma'}\n",
    "print(kamus)\n",
    "print(kamus['apple'])\n",
    "kamus['classroom']='ruang kelas'\n",
    "kamus['apple']='sama'\n",
    "print(kamus)\n",
    "del kamus['apple']\n",
    "print(kamus)\n",
    "print(kamus[0])"
   ]
  },
  {
   "cell_type": "code",
   "execution_count": 12,
   "metadata": {},
   "outputs": [
    {
     "name": "stdout",
     "output_type": "stream",
     "text": [
      "dict_keys(['algoritm', 'classroom'])\n",
      "dict_values(['algoritma', 'ruang kelas'])\n",
      "dict_items([('algoritm', 'algoritma'), ('classroom', 'ruang kelas')])\n"
     ]
    }
   ],
   "source": [
    "print(kamus.keys())\n",
    "print(kamus.values())\n",
    "print(kamus.items())"
   ]
  },
  {
   "cell_type": "code",
   "execution_count": 13,
   "metadata": {},
   "outputs": [
    {
     "name": "stdout",
     "output_type": "stream",
     "text": [
      "algoritma\n",
      "ruang kelas\n"
     ]
    }
   ],
   "source": [
    "for k in kamus.keys():\n",
    "    print(kamus[k])"
   ]
  },
  {
   "cell_type": "code",
   "execution_count": 14,
   "metadata": {},
   "outputs": [],
   "source": [
    "kamus.get('apple')"
   ]
  },
  {
   "cell_type": "code",
   "execution_count": 5,
   "metadata": {},
   "outputs": [
    {
     "name": "stdout",
     "output_type": "stream",
     "text": [
      "{1: 'test0', 2: 'test1', 3: 'test2', 4: 'test3'}\n"
     ]
    }
   ],
   "source": [
    "n=4\n",
    "kamusInt={}\n",
    "for i in range(n):\n",
    "    kamusInt[i+1]='test'+str(i)\n",
    "print(kamusInt)"
   ]
  },
  {
   "cell_type": "code",
   "execution_count": 17,
   "metadata": {},
   "outputs": [],
   "source": [
    "def displayMat2D(mat):\n",
    "    matprint=''\n",
    "    for i in range(len(mat)):\n",
    "        for j in range(len(mat[i])):\n",
    "            matprint=matprint+str(mat[i][j])+' '\n",
    "        matprint=matprint+'\\n'\n",
    "    return matprint"
   ]
  },
  {
   "cell_type": "code",
   "execution_count": null,
   "metadata": {},
   "outputs": [],
   "source": []
  },
  {
   "cell_type": "code",
   "execution_count": 18,
   "metadata": {},
   "outputs": [
    {
     "name": "stdout",
     "output_type": "stream",
     "text": [
      "0 0 0 0 0 \n",
      "0 3 0 0 0 \n",
      "0 0 0 0 0 \n",
      "0 0 0 5 0 \n",
      "\n"
     ]
    }
   ],
   "source": [
    "# sparse matriks\n",
    "matrix=[[0,0,0,0,0],[0,3,0,0,0],[0,0,0,0,0],[0,0,0,5,0]]\n",
    "print(displayMat2D(matrix))"
   ]
  },
  {
   "cell_type": "code",
   "execution_count": 22,
   "metadata": {},
   "outputs": [
    {
     "name": "stdout",
     "output_type": "stream",
     "text": [
      "3\n",
      "None\n"
     ]
    }
   ],
   "source": [
    "baris=4\n",
    "kolom=5\n",
    "dictData={(1,1):3, (3,3):5}\n",
    "print(dictData.get((1,1)))\n",
    "print(dictData.get((1,2)))\n"
   ]
  },
  {
   "cell_type": "code",
   "execution_count": 2,
   "metadata": {},
   "outputs": [
    {
     "ename": "NameError",
     "evalue": "name 'baris' is not defined",
     "output_type": "error",
     "traceback": [
      "\u001b[1;31m---------------------------------------------------------------------------\u001b[0m",
      "\u001b[1;31mNameError\u001b[0m                                 Traceback (most recent call last)",
      "Cell \u001b[1;32mIn [2], line 2\u001b[0m\n\u001b[0;32m      1\u001b[0m temp\u001b[39m=\u001b[39m\u001b[39m'\u001b[39m\u001b[39m'\u001b[39m\n\u001b[1;32m----> 2\u001b[0m \u001b[39mfor\u001b[39;00m i \u001b[39min\u001b[39;00m \u001b[39mrange\u001b[39m(baris):\n\u001b[0;32m      3\u001b[0m     \u001b[39mfor\u001b[39;00m j \u001b[39min\u001b[39;00m \u001b[39mrange\u001b[39m(kolom):\n\u001b[0;32m      4\u001b[0m         \u001b[39mif\u001b[39;00m dictData\u001b[39m.\u001b[39mget((i,j))\u001b[39m==\u001b[39m\u001b[39mNone\u001b[39;00m:\n",
      "\u001b[1;31mNameError\u001b[0m: name 'baris' is not defined"
     ]
    }
   ],
   "source": [
    "temp=''\n",
    "for i in range(baris):\n",
    "    for j in range(kolom):\n",
    "        if dictData.get((i,j))==None:\n",
    "            temp=temp+str(0)+' '\n",
    "        else:\n",
    "            temp=temp+str(dictData.get((i,j)))+' '\n",
    "    temp=temp+'\\n'\n",
    "print(temp)"
   ]
  },
  {
   "cell_type": "markdown",
   "metadata": {},
   "source": [
    "buat fungsi untuk sparse matrix menggunakan dict arg baris kolom\n",
    "buat fungsi display matrix"
   ]
  },
  {
   "cell_type": "code",
   "execution_count": null,
   "metadata": {},
   "outputs": [],
   "source": []
  }
 ],
 "metadata": {
  "kernelspec": {
   "display_name": "Python 3.10.8 64-bit (microsoft store)",
   "language": "python",
   "name": "python3"
  },
  "language_info": {
   "codemirror_mode": {
    "name": "ipython",
    "version": 3
   },
   "file_extension": ".py",
   "mimetype": "text/x-python",
   "name": "python",
   "nbconvert_exporter": "python",
   "pygments_lexer": "ipython3",
   "version": "3.10.8 (tags/v3.10.8:aaaf517, Oct 11 2022, 16:50:30) [MSC v.1933 64 bit (AMD64)]"
  },
  "orig_nbformat": 4,
  "vscode": {
   "interpreter": {
    "hash": "6ae919e83aecbb4c6fc3faf2628cdd6a49b73994f739c3f83e1b5f4ccb202647"
   }
  }
 },
 "nbformat": 4,
 "nbformat_minor": 2
}
