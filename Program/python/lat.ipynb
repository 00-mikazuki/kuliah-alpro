{
 "cells": [
  {
   "cell_type": "code",
   "execution_count": 4,
   "metadata": {},
   "outputs": [
    {
     "name": "stdout",
     "output_type": "stream",
     "text": [
      "[1, 2, 5, 10]\n"
     ]
    }
   ],
   "source": [
    "# level 1 kode 0\n",
    "inp=int(input('masukkan bilangan : '))\n",
    "faktorPembagi=[i for i in range(1,inp+1) if inp%i==0]\n",
    "print(faktorPembagi)"
   ]
  },
  {
   "cell_type": "code",
   "execution_count": 11,
   "metadata": {},
   "outputs": [
    {
     "name": "stdout",
     "output_type": "stream",
     "text": [
      "['a', 'o']\n"
     ]
    }
   ],
   "source": [
    "# level 1 kode 1\n",
    "inp=input('masukkan string : ')\n",
    "vokal='aiueo'\n",
    "spasi=' '\n",
    "penyusun=[i for i in inp if i in vokal and i not in spasi]\n",
    "print(penyusun)"
   ]
  },
  {
   "cell_type": "code",
   "execution_count": 12,
   "metadata": {},
   "outputs": [
    {
     "name": "stdout",
     "output_type": "stream",
     "text": [
      "['l', 'p', 'r']\n"
     ]
    }
   ],
   "source": [
    "# level 1 kode 2\n",
    "inp=input('masukkan string : ')\n",
    "vokal='aiueo'\n",
    "spasi=' '\n",
    "penyusun=[i for i in inp if i not in vokal and i not in spasi]\n",
    "print(penyusun)"
   ]
  },
  {
   "cell_type": "code",
   "execution_count": 16,
   "metadata": {},
   "outputs": [
    {
     "name": "stdout",
     "output_type": "stream",
     "text": [
      "[10, 9, 8, 7, 6, 5, 4, 3, 2]\n"
     ]
    }
   ],
   "source": [
    "# level 1 kode 3\n",
    "listLain=[1,2,3,4,5,6,7,8,9,10]\n",
    "backward=[listLain[i] for i in range(len(listLain)-1,-1,-1)]\n",
    "print(backward)"
   ]
  },
  {
   "cell_type": "code",
   "execution_count": 17,
   "metadata": {},
   "outputs": [
    {
     "name": "stdout",
     "output_type": "stream",
     "text": [
      "0.6111111111111112\n"
     ]
    }
   ],
   "source": [
    "# level 2 kode 0\n",
    "def perspxk(x):\n",
    "    total=0\n",
    "    for i in x:\n",
    "        total+=i\n",
    "    pxk2=0\n",
    "    for i in x:\n",
    "        pxk=i/total\n",
    "        pxk2+=pxk**2\n",
    "    y=1-pxk2\n",
    "    return y\n",
    "\n",
    "x=[1,2,3]\n",
    "print(perspxk(x))"
   ]
  },
  {
   "cell_type": "code",
   "execution_count": 1,
   "metadata": {},
   "outputs": [
    {
     "name": "stdout",
     "output_type": "stream",
     "text": [
      "0.6111111111111112\n"
     ]
    }
   ],
   "source": [
    "def perspxk(x):\n",
    "    total=0\n",
    "    for i in x:\n",
    "        total+=i\n",
    "    pxk2=0\n",
    "    for i in x:\n",
    "        pxk=(i/total)**2\n",
    "        pxk2+=pxk\n",
    "    y=1-pxk2\n",
    "    return y\n",
    "\n",
    "x=[1,2,3]\n",
    "print(perspxk(x))"
   ]
  },
  {
   "cell_type": "code",
   "execution_count": 22,
   "metadata": {},
   "outputs": [
    {
     "name": "stdout",
     "output_type": "stream",
     "text": [
      "10\n"
     ]
    }
   ],
   "source": [
    "# level 2 kode 1\n",
    "def jumlahData(x):\n",
    "    if len(x)==1:\n",
    "        return x[0]\n",
    "    else:\n",
    "        return x[-1]+jumlahData(x[:-1])\n",
    "\n",
    "x=[1,2,3,4]\n",
    "print(jumlahData(x))"
   ]
  },
  {
   "cell_type": "code",
   "execution_count": 43,
   "metadata": {},
   "outputs": [
    {
     "name": "stdout",
     "output_type": "stream",
     "text": [
      "{'a': 4, 'l': 1, 'g': 2, 'o': 2, 'r': 3, 'i': 1, 't': 1, 'm': 3, ' ': 1, 'p': 1, 'e': 1, 'n': 1}\n"
     ]
    }
   ],
   "source": [
    "# level 2 kode 2\n",
    "def histogram(stringx):\n",
    "    stringy=stringx.lower()\n",
    "    hist={}\n",
    "    for i in stringy:\n",
    "        jumlah=0\n",
    "        for j in stringy:\n",
    "            if i==j:\n",
    "                jumlah+=1\n",
    "        hist[i]=jumlah\n",
    "    return hist\n",
    "\n",
    "print(histogram('Algoritma Pemrograman'))"
   ]
  },
  {
   "cell_type": "code",
   "execution_count": null,
   "metadata": {},
   "outputs": [],
   "source": []
  },
  {
   "cell_type": "code",
   "execution_count": null,
   "metadata": {},
   "outputs": [],
   "source": []
  }
 ],
 "metadata": {
  "kernelspec": {
   "display_name": "Python 3",
   "language": "python",
   "name": "python3"
  },
  "language_info": {
   "codemirror_mode": {
    "name": "ipython",
    "version": 3
   },
   "file_extension": ".py",
   "mimetype": "text/x-python",
   "name": "python",
   "nbconvert_exporter": "python",
   "pygments_lexer": "ipython3",
   "version": "3.10.8 (tags/v3.10.8:aaaf517, Oct 11 2022, 16:50:30) [MSC v.1933 64 bit (AMD64)]"
  },
  "orig_nbformat": 4,
  "vscode": {
   "interpreter": {
    "hash": "6ae919e83aecbb4c6fc3faf2628cdd6a49b73994f739c3f83e1b5f4ccb202647"
   }
  }
 },
 "nbformat": 4,
 "nbformat_minor": 2
}
