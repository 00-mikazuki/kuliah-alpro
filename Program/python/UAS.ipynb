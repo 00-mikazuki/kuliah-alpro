{
 "cells": [
  {
   "cell_type": "code",
   "execution_count": 3,
   "metadata": {},
   "outputs": [
    {
     "name": "stdout",
     "output_type": "stream",
     "text": [
      "0\n"
     ]
    }
   ],
   "source": [
    "def fungsi(x):\n",
    "    y=0\n",
    "    if x<=0:\n",
    "        return False\n",
    "    else:\n",
    "        for i in range(x):\n",
    "            y*=x\n",
    "        return y\n",
    "\n",
    "print(fungsi(5))"
   ]
  },
  {
   "cell_type": "code",
   "execution_count": 4,
   "metadata": {},
   "outputs": [
    {
     "name": "stdout",
     "output_type": "stream",
     "text": [
      "[5, 3, 8]\n"
     ]
    }
   ],
   "source": [
    "data={}\n",
    "data[(3,4)]=[5]\n",
    "data[(1,2)]=[3]\n",
    "data[5]=[8]\n",
    "apa=[]\n",
    "for kunci in data.keys():\n",
    "    apa+=data[kunci]\n",
    "print(apa)"
   ]
  },
  {
   "cell_type": "code",
   "execution_count": 1,
   "metadata": {},
   "outputs": [
    {
     "ename": "TypeError",
     "evalue": "'str' object does not support item assignment",
     "output_type": "error",
     "traceback": [
      "\u001b[1;31m---------------------------------------------------------------------------\u001b[0m",
      "\u001b[1;31mTypeError\u001b[0m                                 Traceback (most recent call last)",
      "Cell \u001b[1;32mIn [1], line 2\u001b[0m\n\u001b[0;32m      1\u001b[0m x\u001b[39m=\u001b[39m\u001b[39m'\u001b[39m\u001b[39mcop\u001b[39m\u001b[39m'\u001b[39m\n\u001b[1;32m----> 2\u001b[0m x[\u001b[39m0\u001b[39;49m]\u001b[39m=\u001b[39m\u001b[39m'\u001b[39m\u001b[39ms\u001b[39m\u001b[39m'\u001b[39m\n\u001b[0;32m      3\u001b[0m \u001b[39mprint\u001b[39m(x)\n",
      "\u001b[1;31mTypeError\u001b[0m: 'str' object does not support item assignment"
     ]
    }
   ],
   "source": [
    "x='cop'\n",
    "x[0]='s'\n",
    "print(x)"
   ]
  },
  {
   "cell_type": "code",
   "execution_count": 2,
   "metadata": {},
   "outputs": [
    {
     "name": "stdout",
     "output_type": "stream",
     "text": [
      "['s', 'o', 'p']\n"
     ]
    }
   ],
   "source": [
    "x=['c','o','p']\n",
    "x[0]='s'\n",
    "print(x)"
   ]
  },
  {
   "cell_type": "code",
   "execution_count": 3,
   "metadata": {},
   "outputs": [
    {
     "ename": "TypeError",
     "evalue": "unsupported operand type(s) for -: 'list' and 'list'",
     "output_type": "error",
     "traceback": [
      "\u001b[1;31m---------------------------------------------------------------------------\u001b[0m",
      "\u001b[1;31mTypeError\u001b[0m                                 Traceback (most recent call last)",
      "Cell \u001b[1;32mIn [3], line 3\u001b[0m\n\u001b[0;32m      1\u001b[0m a\u001b[39m=\u001b[39m[\u001b[39m5\u001b[39m,\u001b[39m2\u001b[39m,\u001b[39m3\u001b[39m]\n\u001b[0;32m      2\u001b[0m b\u001b[39m=\u001b[39m[\u001b[39m4\u001b[39m,\u001b[39m1\u001b[39m,\u001b[39m5\u001b[39m]\n\u001b[1;32m----> 3\u001b[0m \u001b[39mprint\u001b[39m(a\u001b[39m-\u001b[39;49mb)\n",
      "\u001b[1;31mTypeError\u001b[0m: unsupported operand type(s) for -: 'list' and 'list'"
     ]
    }
   ],
   "source": [
    "a=[5,2,3]\n",
    "b=[4,1,5]\n",
    "print(a-b)"
   ]
  },
  {
   "cell_type": "code",
   "execution_count": 4,
   "metadata": {},
   "outputs": [
    {
     "name": "stdout",
     "output_type": "stream",
     "text": [
      "[4, 6]\n"
     ]
    }
   ],
   "source": [
    "a=[4]\n",
    "b=[6]\n",
    "print(a+b)"
   ]
  },
  {
   "cell_type": "code",
   "execution_count": 5,
   "metadata": {},
   "outputs": [
    {
     "name": "stdout",
     "output_type": "stream",
     "text": [
      "10\n"
     ]
    }
   ],
   "source": [
    "def fungsi(x):\n",
    "    if x==0:\n",
    "        return 0\n",
    "    else:\n",
    "        return fungsi(x-1)+x\n",
    "\n",
    "print(fungsi(4))"
   ]
  },
  {
   "cell_type": "code",
   "execution_count": 6,
   "metadata": {},
   "outputs": [
    {
     "name": "stdout",
     "output_type": "stream",
     "text": [
      "[5, 2, 3, 4, 1, 5]\n"
     ]
    }
   ],
   "source": [
    "a=[5,2,3]\n",
    "b=[4,1,5]\n",
    "print(a+b)"
   ]
  },
  {
   "cell_type": "code",
   "execution_count": 7,
   "metadata": {},
   "outputs": [
    {
     "ename": "TypeError",
     "evalue": "'tuple' object does not support item assignment",
     "output_type": "error",
     "traceback": [
      "\u001b[1;31m---------------------------------------------------------------------------\u001b[0m",
      "\u001b[1;31mTypeError\u001b[0m                                 Traceback (most recent call last)",
      "Cell \u001b[1;32mIn [7], line 2\u001b[0m\n\u001b[0;32m      1\u001b[0m x\u001b[39m=\u001b[39m(\u001b[39m4\u001b[39m,\u001b[39m1\u001b[39m,\u001b[39m3\u001b[39m,\u001b[39m5\u001b[39m,\u001b[39m8\u001b[39m)\n\u001b[1;32m----> 2\u001b[0m x[\u001b[39m2\u001b[39;49m]\u001b[39m=\u001b[39m\u001b[39m7\u001b[39m\n\u001b[0;32m      3\u001b[0m \u001b[39mprint\u001b[39m(x)\n",
      "\u001b[1;31mTypeError\u001b[0m: 'tuple' object does not support item assignment"
     ]
    }
   ],
   "source": [
    "x=(4,1,3,5,8)\n",
    "x[2]=7\n",
    "print(x)"
   ]
  },
  {
   "cell_type": "code",
   "execution_count": 8,
   "metadata": {},
   "outputs": [
    {
     "ename": "AttributeError",
     "evalue": "'tuple' object has no attribute 'append'",
     "output_type": "error",
     "traceback": [
      "\u001b[1;31m---------------------------------------------------------------------------\u001b[0m",
      "\u001b[1;31mAttributeError\u001b[0m                            Traceback (most recent call last)",
      "Cell \u001b[1;32mIn [8], line 6\u001b[0m\n\u001b[0;32m      4\u001b[0m         y\u001b[39m.\u001b[39mappend(i)\n\u001b[0;32m      5\u001b[0m     \u001b[39mprint\u001b[39m(y)\n\u001b[1;32m----> 6\u001b[0m fungsi(\u001b[39m5\u001b[39;49m)\n",
      "Cell \u001b[1;32mIn [8], line 4\u001b[0m, in \u001b[0;36mfungsi\u001b[1;34m(x)\u001b[0m\n\u001b[0;32m      2\u001b[0m y\u001b[39m=\u001b[39m()\n\u001b[0;32m      3\u001b[0m \u001b[39mfor\u001b[39;00m i \u001b[39min\u001b[39;00m \u001b[39mrange\u001b[39m(x):\n\u001b[1;32m----> 4\u001b[0m     y\u001b[39m.\u001b[39;49mappend(i)\n\u001b[0;32m      5\u001b[0m \u001b[39mprint\u001b[39m(y)\n",
      "\u001b[1;31mAttributeError\u001b[0m: 'tuple' object has no attribute 'append'"
     ]
    }
   ],
   "source": [
    "def fungsi(x):\n",
    "    y=()\n",
    "    for i in range(x):\n",
    "        y.append(i)\n",
    "    print(y)\n",
    "fungsi(5)"
   ]
  },
  {
   "cell_type": "code",
   "execution_count": 9,
   "metadata": {},
   "outputs": [
    {
     "ename": "TypeError",
     "evalue": "'tuple' object is not callable",
     "output_type": "error",
     "traceback": [
      "\u001b[1;31m---------------------------------------------------------------------------\u001b[0m",
      "\u001b[1;31mTypeError\u001b[0m                                 Traceback (most recent call last)",
      "Cell \u001b[1;32mIn [9], line 2\u001b[0m\n\u001b[0;32m      1\u001b[0m data\u001b[39m=\u001b[39m(\u001b[39m5\u001b[39m,\u001b[39m1\u001b[39m,\u001b[39m4\u001b[39m,\u001b[39m8\u001b[39m)\n\u001b[1;32m----> 2\u001b[0m \u001b[39mprint\u001b[39m(data(\u001b[39m0\u001b[39;49m))\n",
      "\u001b[1;31mTypeError\u001b[0m: 'tuple' object is not callable"
     ]
    }
   ],
   "source": [
    "data=(5,1,4,8)\n",
    "print(data(0))"
   ]
  },
  {
   "cell_type": "code",
   "execution_count": 10,
   "metadata": {},
   "outputs": [
    {
     "name": "stdout",
     "output_type": "stream",
     "text": [
      "[0, 1, 2, 3, 4]\n"
     ]
    }
   ],
   "source": [
    "def fungsi(x):\n",
    "    y=[]\n",
    "    for i in range(x):\n",
    "        y.append(i)\n",
    "    print(y)\n",
    "fungsi(5)"
   ]
  },
  {
   "cell_type": "code",
   "execution_count": 11,
   "metadata": {},
   "outputs": [
    {
     "name": "stdout",
     "output_type": "stream",
     "text": [
      "10218\n"
     ]
    }
   ],
   "source": [
    "def fungsi(x):\n",
    "    data=''\n",
    "    for y in x:\n",
    "        data+=str(y)\n",
    "    return data\n",
    "i=[10,2,1,8]\n",
    "print(fungsi(i))"
   ]
  },
  {
   "cell_type": "code",
   "execution_count": 12,
   "metadata": {},
   "outputs": [
    {
     "name": "stdout",
     "output_type": "stream",
     "text": [
      "14\n"
     ]
    }
   ],
   "source": [
    "def fungsi(x):\n",
    "    data=0\n",
    "    for y in x:\n",
    "        data+=y\n",
    "    return data\n",
    "i=[3,4,7]\n",
    "print(fungsi(i))"
   ]
  },
  {
   "cell_type": "code",
   "execution_count": 13,
   "metadata": {},
   "outputs": [
    {
     "name": "stdout",
     "output_type": "stream",
     "text": [
      "None\n"
     ]
    }
   ],
   "source": [
    "kamus={(3,4):10, (2,1):5, (7,2):4}\n",
    "print(kamus.get((2,2)))"
   ]
  },
  {
   "cell_type": "code",
   "execution_count": 26,
   "metadata": {},
   "outputs": [
    {
     "name": "stdout",
     "output_type": "stream",
     "text": [
      "['l', 'p', 'r']\n"
     ]
    }
   ],
   "source": [
    "huruf=input('masukkan kalimat : ')\n",
    "listCom=[i for i in huruf if i!='a' and i!='i' and i!='u' and i!='e' and i!='o']\n",
    "print(listCom)"
   ]
  }
 ],
 "metadata": {
  "kernelspec": {
   "display_name": "Python 3",
   "language": "python",
   "name": "python3"
  },
  "language_info": {
   "codemirror_mode": {
    "name": "ipython",
    "version": 3
   },
   "file_extension": ".py",
   "mimetype": "text/x-python",
   "name": "python",
   "nbconvert_exporter": "python",
   "pygments_lexer": "ipython3",
   "version": "3.10.8 (tags/v3.10.8:aaaf517, Oct 11 2022, 16:50:30) [MSC v.1933 64 bit (AMD64)]"
  },
  "orig_nbformat": 4,
  "vscode": {
   "interpreter": {
    "hash": "6ae919e83aecbb4c6fc3faf2628cdd6a49b73994f739c3f83e1b5f4ccb202647"
   }
  }
 },
 "nbformat": 4,
 "nbformat_minor": 2
}
